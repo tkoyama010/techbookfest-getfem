{
 "cells": [
  {
   "cell_type": "markdown",
   "metadata": {},
   "source": [
    "# 単純支持の片持ち梁での検討\n",
    "\n",
    "GetFEM++を使用して単純支持の片持ち梁に荷重を与え、理論解との比較をします。"
   ]
  },
  {
   "cell_type": "code",
   "execution_count": 1,
   "metadata": {},
   "outputs": [],
   "source": [
    "import getfem as gf\n",
    "import numpy as np"
   ]
  },
  {
   "cell_type": "markdown",
   "metadata": {},
   "source": [
    "検討するケースは次の通りです。GetFEM++において下に示す有限要素法と積分をそれぞれFEM_PRODUCTとIM_PRDOCTを使用して2次元化して使用します。\n",
    "\n",
    "| ケース名 | 要素定式化       | 分割    | 有限要素法                     | 積分            |\n",
    "| -------- | ---------------- | ------- | ------------------------------ | --------------- |\n",
    "| case11   | 2次要素          | 1×4    | FEM_PK(1, 2)                   | IM_GAUSS1D(2)   |\n",
    "| case12   | 2次要素          | 2×4    | FEM_PK(1, 2)                   | IM_GAUSS1D(2)   |\n",
    "| case13   | 2次要素          | 4×4    | FEM_PK(1, 2)                   | IM_GAUSS1D(2)   |\n",
    "| case14   | 2次要素          | 8×16   | FEM_PK(1, 2)                   | IM_GAUSS1D(2)   |\n",
    "| case21   | 1次完全積分要素  | 1×4    | FEM_PK(1, 1)                   | IM_GAUSS1D(2)   |\n",
    "| case22   | 1次完全積分要素  | 2×4    | FEM_PK(1, 1)                   | IM_GAUSS1D(2)   |\n",
    "| case23   | 1次完全積分要素  | 4×4    | FEM_PK(1, 1)                   | IM_GAUSS1D(2)   |\n",
    "| case24   | 1次完全積分要素  | 8×16   | FEM_PK(1, 1)                   | IM_GAUSS1D(2)   |\n",
    "| case31   | 1次低減積分要素  | 1×4    | FEM_PK(1, 1)                   | IM_GAUSS1D(1)   |\n",
    "| case32   | 1次低減積分要素  | 2×4    | FEM_PK(1, 1)                   | IM_GAUSS1D(1)   |\n",
    "| case33   | 1次低減積分要素  | 4×4    | FEM_PK(1, 1)                   | IM_GAUSS1D(1)   |\n",
    "| case34   | 1次低減積分要素  | 8×16   | FEM_PK(1, 1)                   | IM_GAUSS1D(1)   |\n",
    "| case41   | 1次非適合要素    | 1×4    | FEM_PK_WITH_CUBIC_BUBBLE(1, 1) | IM_GAUSS1D(2)   |\n",
    "| case42   | 1次非適合要素    | 2×4    | FEM_PK_WITH_CUBIC_BUBBLE(1, 1) | IM_GAUSS1D(2)   |\n",
    "| case43   | 1次非適合要素    | 4×4    | FEM_PK_WITH_CUBIC_BUBBLE(1, 1) | IM_GAUSS1D(2)   |\n",
    "| case44   | 1次非適合要素    | 8×16   | FEM_PK_WITH_CUBIC_BUBBLE(1, 1) | IM_GAUSS1D(2)   |\n",
    "\n",
    "それでは、これらの有限要素法と積分法をそれぞれ設定します。メッシュを最初に設定します。モデル全体のサイズはX方向に10、Y方向に1とします。一般的に細長比（スレンダー比）が1:10であれば梁とみなせると言われています。(http://femingway.com/?p=1310)"
   ]
  },
  {
   "cell_type": "code",
   "execution_count": 2,
   "metadata": {},
   "outputs": [],
   "source": [
    "x = 10.0\n",
    "y = 1.0\n",
    "\n",
    "x04 = np.arange(4+1)*x/4\n",
    "x16 = np.arange(16+1)*x/16\n",
    "\n",
    "y01 = np.arange(1+1)*y/1\n",
    "y02 = np.arange(2+1)*y/2\n",
    "y04 = np.arange(4+1)*y/4\n",
    "y08 = np.arange(8+1)*y/8\n",
    "\n",
    "m0104 = gf.Mesh('cartesian', x04, y01)\n",
    "m0204 = gf.Mesh('cartesian', x04, y02)\n",
    "m0404 = gf.Mesh('cartesian', x04, y04)\n",
    "m0816 = gf.Mesh('cartesian', x16, y08)\n",
    "\n",
    "m0104.export_to_vtk('m0104.vtk')\n",
    "m0204.export_to_vtk('m0204.vtk')\n",
    "m0404.export_to_vtk('m0404.vtk')\n",
    "m0816.export_to_vtk('m0816.vtk')"
   ]
  },
  {
   "cell_type": "code",
   "execution_count": 3,
   "metadata": {},
   "outputs": [],
   "source": [
    "def plot_vtk(filename, picturename):\n",
    "    from mayavi import mlab\n",
    "    mlab.init_notebook()\n",
    "    vtk_file_reader = mlab.pipeline.open(filename)\n",
    "    extract_edges = mlab.pipeline.extract_edges(vtk_file_reader)\n",
    "    surface = mlab.pipeline.surface(extract_edges)\n",
    "    axes = mlab.axes(surface)\n",
    "    \n",
    "    mlab.show()\n",
    "    mlab.savefig(picturename)\n",
    "    mlab.clf()\n",
    "    from IPython.display import Image, display_png\n",
    "    display_png(Image(picturename))"
   ]
  },
  {
   "cell_type": "markdown",
   "metadata": {},
   "source": [
    "1×4のメッシュを表示します。"
   ]
  },
  {
   "cell_type": "code",
   "execution_count": 4,
   "metadata": {},
   "outputs": [
    {
     "name": "stdout",
     "output_type": "stream",
     "text": [
      "Notebook initialized with x3d backend.\n"
     ]
    },
    {
     "data": {
      "image/png": "[encoded data removed]"
     },
     "metadata": {},
     "output_type": "display_data"
    }
   ],
   "source": [
    "plot_vtk(filename = 'm0104.vtk', picturename = 'm0104.png')"
   ]
  },
  {
   "cell_type": "markdown",
   "metadata": {},
   "source": [
    "2×4のメッシュを表示します。"
   ]
  },
  {
   "cell_type": "code",
   "execution_count": 5,
   "metadata": {},
   "outputs": [
    {
     "name": "stdout",
     "output_type": "stream",
     "text": [
      "Notebook initialized with x3d backend.\n"
     ]
    },
    {
     "data": {
      "image/png": "[encoded data removed]"
     },
     "metadata": {},
     "output_type": "display_data"
    }
   ],
   "source": [
    "plot_vtk(filename = 'm0204.vtk', picturename = 'm0204.png')"
   ]
  },
  {
   "cell_type": "markdown",
   "metadata": {},
   "source": [
    "4×4のメッシュを表示します。"
   ]
  },
  {
   "cell_type": "code",
   "execution_count": 6,
   "metadata": {},
   "outputs": [
    {
     "name": "stdout",
     "output_type": "stream",
     "text": [
      "Notebook initialized with x3d backend.\n"
     ]
    },
    {
     "data": {
      "image/png": "[encoded data removed]"
     },
     "metadata": {},
     "output_type": "display_data"
    }
   ],
   "source": [
    "plot_vtk(filename = 'm0404.vtk', picturename = 'm0404.png')"
   ]
  },
  {
   "cell_type": "markdown",
   "metadata": {},
   "source": [
    "8×16のメッシュを表示します。"
   ]
  },
  {
   "cell_type": "code",
   "execution_count": 7,
   "metadata": {},
   "outputs": [
    {
     "name": "stdout",
     "output_type": "stream",
     "text": [
      "Notebook initialized with x3d backend.\n"
     ]
    },
    {
     "data": {
      "image/png": "[encoded data removed]"
     },
     "metadata": {},
     "output_type": "display_data"
    }
   ],
   "source": [
    "plot_vtk(filename = 'm0816.vtk', picturename = 'm0816.png')"
   ]
  },
  {
   "cell_type": "markdown",
   "metadata": {},
   "source": [
    "各メッシュの左側面にDirichlet条件を設定するための境界領域を設定します。各メッシュの右側面にNeumann条件を設定するための境界領域を設定します。"
   ]
  },
  {
   "cell_type": "code",
   "execution_count": 8,
   "metadata": {},
   "outputs": [],
   "source": [
    "flst0104 = m0104.outer_faces()\n",
    "flst0204 = m0204.outer_faces()\n",
    "flst0404 = m0404.outer_faces()\n",
    "flst0816 = m0816.outer_faces()\n",
    "\n",
    "fnor0104 = m0104.normal_of_faces(flst0104)\n",
    "fnor0204 = m0204.normal_of_faces(flst0204)\n",
    "fnor0404 = m0404.normal_of_faces(flst0404)\n",
    "fnor0816 = m0816.normal_of_faces(flst0816)\n",
    "\n",
    "tright0104 = abs(fnor0104[0, :] - 1) < 1e-14\n",
    "tright0204 = abs(fnor0204[0, :] - 1) < 1e-14\n",
    "tright0404 = abs(fnor0404[0, :] - 1) < 1e-14\n",
    "tright0816 = abs(fnor0816[0, :] - 1) < 1e-14\n",
    "\n",
    "tleft0104 = abs(fnor0104[0, :] + 1) < 1e-14\n",
    "tleft0204 = abs(fnor0204[0, :] + 1) < 1e-14\n",
    "tleft0404 = abs(fnor0404[0, :] + 1) < 1e-14\n",
    "tleft0816 = abs(fnor0816[0, :] + 1) < 1e-14\n",
    "\n",
    "fright0104 = np.compress(tright0104, flst0104, axis=1)\n",
    "fright0204 = np.compress(tright0204, flst0204, axis=1)\n",
    "fright0404 = np.compress(tright0404, flst0404, axis=1)\n",
    "fright0816 = np.compress(tright0816, flst0816, axis=1)\n",
    "\n",
    "fleft0104 = np.compress(tleft0104, flst0104, axis=1)\n",
    "fleft0204 = np.compress(tleft0204, flst0204, axis=1)\n",
    "fleft0404 = np.compress(tleft0404, flst0404, axis=1)\n",
    "fleft0816 = np.compress(tleft0816, flst0816, axis=1)\n",
    "\n",
    "right = 1\n",
    "left = 2\n",
    "\n",
    "m0104.set_region(right, fright0104)\n",
    "m0204.set_region(right, fright0204)\n",
    "m0404.set_region(right, fright0404)\n",
    "m0816.set_region(right, fright0816)\n",
    "\n",
    "m0104.set_region(left, fleft0104)\n",
    "m0204.set_region(left, fleft0204)\n",
    "m0404.set_region(left, fleft0404)\n",
    "m0816.set_region(left, fleft0816)"
   ]
  },
  {
   "cell_type": "markdown",
   "metadata": {},
   "source": [
    "MeshFEMオブジェクトを作成し各メッシュと有限要素法を関連付けます。"
   ]
  },
  {
   "cell_type": "code",
   "execution_count": 9,
   "metadata": {},
   "outputs": [],
   "source": [
    "mfu11 = gf.MeshFem(m0104, 2)\n",
    "mfu12 = gf.MeshFem(m0204, 2)\n",
    "mfu13 = gf.MeshFem(m0404, 2)\n",
    "mfu14 = gf.MeshFem(m0816, 2)\n",
    "mfu21 = gf.MeshFem(m0104, 2)\n",
    "mfu22 = gf.MeshFem(m0204, 2)\n",
    "mfu23 = gf.MeshFem(m0404, 2)\n",
    "mfu24 = gf.MeshFem(m0816, 2)\n",
    "mfu31 = gf.MeshFem(m0104, 2)\n",
    "mfu32 = gf.MeshFem(m0204, 2)\n",
    "mfu33 = gf.MeshFem(m0404, 2)\n",
    "mfu34 = gf.MeshFem(m0816, 2)\n",
    "mfu41 = gf.MeshFem(m0104, 2)\n",
    "mfu42 = gf.MeshFem(m0204, 2)\n",
    "mfu43 = gf.MeshFem(m0404, 2)\n",
    "mfu44 = gf.MeshFem(m0816, 2)\n",
    "\n",
    "fem1 = gf.Fem('FEM_PRODUCT(FEM_PK(1, 2), FEM_PK(1, 2))') # 2次要素\n",
    "fem2 = gf.Fem('FEM_PRODUCT(FEM_PK(1, 1), FEM_PK(1, 1))') # 1次要素\n",
    "fem3 = gf.Fem('FEM_PRODUCT(FEM_PK_WITH_CUBIC_BUBBLE(1, 1), FEM_PK_WITH_CUBIC_BUBBLE(1, 1))') # 非適合要素\n",
    "\n",
    "mfu11.set_fem(fem1)\n",
    "mfu12.set_fem(fem1)\n",
    "mfu13.set_fem(fem1)\n",
    "mfu14.set_fem(fem1)\n",
    "mfu21.set_fem(fem2)\n",
    "mfu22.set_fem(fem2)\n",
    "mfu23.set_fem(fem2)\n",
    "mfu24.set_fem(fem2)\n",
    "mfu31.set_fem(fem2)\n",
    "mfu32.set_fem(fem2)\n",
    "mfu33.set_fem(fem2)\n",
    "mfu34.set_fem(fem2)\n",
    "mfu41.set_fem(fem3)\n",
    "mfu42.set_fem(fem3)\n",
    "mfu43.set_fem(fem3)\n",
    "mfu44.set_fem(fem3)"
   ]
  },
  {
   "cell_type": "markdown",
   "metadata": {},
   "source": [
    "積分法を定義します。"
   ]
  },
  {
   "cell_type": "code",
   "execution_count": 10,
   "metadata": {},
   "outputs": [],
   "source": [
    "mim1 = gf.Integ('IM_GAUSS1D(2)')\n",
    "mim2 = gf.Integ('IM_GAUSS1D(1)')"
   ]
  },
  {
   "cell_type": "markdown",
   "metadata": {},
   "source": [
    "モデルを定義し、各ケースの変数を追加します。"
   ]
  },
  {
   "cell_type": "code",
   "execution_count": 11,
   "metadata": {},
   "outputs": [],
   "source": [
    "md = gf.Model('real')"
   ]
  },
  {
   "cell_type": "code",
   "execution_count": 12,
   "metadata": {},
   "outputs": [],
   "source": [
    "md.add_fem_variable('u11', mfu11)\n",
    "md.add_fem_variable('u12', mfu12)\n",
    "md.add_fem_variable('u13', mfu13)\n",
    "md.add_fem_variable('u14', mfu14)\n",
    "md.add_fem_variable('u21', mfu21)"
   ]
  },
  {
   "cell_type": "code",
   "execution_count": null,
   "metadata": {},
   "outputs": [],
   "source": []
  }
 ],
 "metadata": {
  "kernelspec": {
   "display_name": "Python 2",
   "language": "python",
   "name": "python2"
  },
  "language_info": {
   "codemirror_mode": {
    "name": "ipython",
    "version": 2
   },
   "file_extension": ".py",
   "mimetype": "text/x-python",
   "name": "python",
   "nbconvert_exporter": "python",
   "pygments_lexer": "ipython2",
   "version": "2.7.15+"
  }
 },
 "nbformat": 4,
 "nbformat_minor": 2
}
