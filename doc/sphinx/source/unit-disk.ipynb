{
 "cells": [
  {
   "cell_type": "markdown",
   "metadata": {},
   "source": [
    "# 単位円盤上のPoisson方程式\n",
    "\n",
    "\n",
    "<img src=\"naburaFACE02.bmp\" width=\"150\" height=\"100\">\n",
    "\n",
    "[なぶら](https://twitter.com/nabla_ocbkansai)です。MathWork様の以下の[問題](https://jp.mathworks.com/help/pde/ug/solve-poissons-equation-on-a-unit-disk.html)が面白そうだったのでGetFEM++で解いてみます。円盤の半径は1.0で、円盤内ではPoisson方程式が成り立っているとします。円の境界にはDirichlet条件が設けられています。(画像はMathWorks様より引用)\n",
    "![Geometory](https://jp.mathworks.com/help/examples/pde/win64/pdedemo1_01.png)\n",
    "\n",
    "この問題の理論解は次式で表されます。\n",
    "\n",
    "$$\n",
    "u(x, y) = \\dfrac{1-x^2-y^2}{4}\n",
    "$$\n",
    "\n",
    "GetFEM++でこの理論解と同じ結果が得られるのでしょうか。GetFEM++をインポートして解析をはじめましょう！"
   ]
  },
  {
   "cell_type": "code",
   "execution_count": 1,
   "metadata": {},
   "outputs": [],
   "source": [
    "import sys"
   ]
  },
  {
   "cell_type": "code",
   "execution_count": 2,
   "metadata": {},
   "outputs": [],
   "source": [
    "sys.path.append('../../../')"
   ]
  },
  {
   "cell_type": "code",
   "execution_count": 3,
   "metadata": {},
   "outputs": [],
   "source": [
    "import getfem as gf"
   ]
  },
  {
   "cell_type": "markdown",
   "metadata": {},
   "source": [
    "GetFEM++ではまず、MesherObjectでジオメトリを設定します。今回は中心が(0, 0)の半径1.0の円が必要です。ただ、このメッシュ生成の際には負の座標でメッシュを作成することが仕様上できません。とりあえず、中心が(1.0, 1.0)で半径が1.0の円を作成します。"
   ]
  },
  {
   "cell_type": "code",
   "execution_count": 4,
   "metadata": {},
   "outputs": [],
   "source": [
    "mo = gf.MesherObject('ball', [1.0, 1.0], 1.0)"
   ]
  },
  {
   "cell_type": "markdown",
   "metadata": {},
   "source": [
    "MesherObjectについて詳しく知りたい方は以下のコマンドを実行してください。使い方が表示されます。"
   ]
  },
  {
   "cell_type": "code",
   "execution_count": 5,
   "metadata": {},
   "outputs": [],
   "source": [
    "gf.MesherObject?"
   ]
  },
  {
   "cell_type": "markdown",
   "metadata": {},
   "source": [
    "次にメッシュの作成を行います。MathWorks様のサイトを見ると、長さ1あたり約10分割されていますね。そこで、Meshオブジェクトのgenerate機能でメッシュのおおよその直径hを0.1としてメッシュを作成します。今回の解析では2次要素を用いるためコマンドは次のようになります。"
   ]
  },
  {
   "cell_type": "code",
   "execution_count": 6,
   "metadata": {},
   "outputs": [],
   "source": [
    "h = 0.1\n",
    "mesh = gf.Mesh('generate', mo, h, 2)\n",
    "gf.Mesh?"
   ]
  },
  {
   "cell_type": "markdown",
   "metadata": {},
   "source": [
    "これでメッシュができました。実際にメッシュを表示させてみましょう。ここではmayaviというライブラリを使って画像をJupyter上に表示させています。ただ、ここの部分は今回の話の本質ではないので、解説は省略しますね。今度機会があれば説明しますね。とりあえずこうすれば結果が表示できるんだぐらいに思っておいてください。"
   ]
  },
  {
   "cell_type": "code",
   "execution_count": 7,
   "metadata": {},
   "outputs": [
    {
     "ename": "ModuleNotFoundError",
     "evalue": "No module named 'ipywidgets'",
     "output_type": "error",
     "traceback": [
      "\u001b[0;31m---------------------------------------------------------------------------\u001b[0m",
      "\u001b[0;31mModuleNotFoundError\u001b[0m                       Traceback (most recent call last)",
      "\u001b[0;32m<ipython-input-7-5a0fd0dabb2b>\u001b[0m in \u001b[0;36m<module>\u001b[0;34m\u001b[0m\n\u001b[1;32m      3\u001b[0m \u001b[0;34m\u001b[0m\u001b[0m\n\u001b[1;32m      4\u001b[0m \u001b[0;32mfrom\u001b[0m \u001b[0mmayavi\u001b[0m \u001b[0;32mimport\u001b[0m \u001b[0mmlab\u001b[0m\u001b[0;34m\u001b[0m\u001b[0;34m\u001b[0m\u001b[0m\n\u001b[0;32m----> 5\u001b[0;31m \u001b[0mmlab\u001b[0m\u001b[0;34m.\u001b[0m\u001b[0minit_notebook\u001b[0m\u001b[0;34m(\u001b[0m\u001b[0;34m)\u001b[0m\u001b[0;34m\u001b[0m\u001b[0;34m\u001b[0m\u001b[0m\n\u001b[0m\u001b[1;32m      6\u001b[0m \u001b[0mvtk_file_reader\u001b[0m \u001b[0;34m=\u001b[0m \u001b[0mmlab\u001b[0m\u001b[0;34m.\u001b[0m\u001b[0mpipeline\u001b[0m\u001b[0;34m.\u001b[0m\u001b[0mopen\u001b[0m\u001b[0;34m(\u001b[0m\u001b[0mfilename\u001b[0m\u001b[0;34m)\u001b[0m\u001b[0;34m\u001b[0m\u001b[0;34m\u001b[0m\u001b[0m\n\u001b[1;32m      7\u001b[0m \u001b[0mextract_edges\u001b[0m \u001b[0;34m=\u001b[0m \u001b[0mmlab\u001b[0m\u001b[0;34m.\u001b[0m\u001b[0mpipeline\u001b[0m\u001b[0;34m.\u001b[0m\u001b[0mextract_edges\u001b[0m\u001b[0;34m(\u001b[0m\u001b[0mvtk_file_reader\u001b[0m\u001b[0;34m)\u001b[0m\u001b[0;34m\u001b[0m\u001b[0;34m\u001b[0m\u001b[0m\n",
      "\u001b[0;32m~/techbookfest-getfem/doc/sphinx/source/test/lib/python3.7/site-packages/mayavi/tools/notebook.py\u001b[0m in \u001b[0;36minit\u001b[0;34m(backend, width, height, local)\u001b[0m\n\u001b[1;32m     38\u001b[0m     \u001b[0m_local\u001b[0m \u001b[0;34m=\u001b[0m \u001b[0mlocal\u001b[0m\u001b[0;34m\u001b[0m\u001b[0;34m\u001b[0m\u001b[0m\n\u001b[1;32m     39\u001b[0m     \u001b[0;32mif\u001b[0m \u001b[0mbackend\u001b[0m \u001b[0;34m==\u001b[0m \u001b[0;34m'ipy'\u001b[0m\u001b[0;34m:\u001b[0m\u001b[0;34m\u001b[0m\u001b[0;34m\u001b[0m\u001b[0m\n\u001b[0;32m---> 40\u001b[0;31m         \u001b[0m_setup_widget_manager\u001b[0m\u001b[0;34m(\u001b[0m\u001b[0;34m)\u001b[0m\u001b[0;34m\u001b[0m\u001b[0;34m\u001b[0m\u001b[0m\n\u001b[0m\u001b[1;32m     41\u001b[0m     \u001b[0m_monkey_patch_for_ipython\u001b[0m\u001b[0;34m(\u001b[0m\u001b[0;34m)\u001b[0m\u001b[0;34m\u001b[0m\u001b[0;34m\u001b[0m\u001b[0m\n\u001b[1;32m     42\u001b[0m     \u001b[0mprint\u001b[0m\u001b[0;34m(\u001b[0m\u001b[0;34m\"Notebook initialized with %s backend.\"\u001b[0m \u001b[0;34m%\u001b[0m \u001b[0mbackend\u001b[0m\u001b[0;34m)\u001b[0m\u001b[0;34m\u001b[0m\u001b[0;34m\u001b[0m\u001b[0m\n",
      "\u001b[0;32m~/techbookfest-getfem/doc/sphinx/source/test/lib/python3.7/site-packages/mayavi/tools/notebook.py\u001b[0m in \u001b[0;36m_setup_widget_manager\u001b[0;34m()\u001b[0m\n\u001b[1;32m     46\u001b[0m     \u001b[0;32mglobal\u001b[0m \u001b[0m_widget_manager\u001b[0m\u001b[0;34m\u001b[0m\u001b[0;34m\u001b[0m\u001b[0m\n\u001b[1;32m     47\u001b[0m     \u001b[0;32mif\u001b[0m \u001b[0m_widget_manager\u001b[0m \u001b[0;32mis\u001b[0m \u001b[0;32mNone\u001b[0m\u001b[0;34m:\u001b[0m\u001b[0;34m\u001b[0m\u001b[0;34m\u001b[0m\u001b[0m\n\u001b[0;32m---> 48\u001b[0;31m         \u001b[0;32mfrom\u001b[0m \u001b[0mmayavi\u001b[0m\u001b[0;34m.\u001b[0m\u001b[0mtools\u001b[0m\u001b[0;34m.\u001b[0m\u001b[0mremote\u001b[0m\u001b[0;34m.\u001b[0m\u001b[0mipy_remote\u001b[0m \u001b[0;32mimport\u001b[0m \u001b[0mWidgetManager\u001b[0m\u001b[0;34m\u001b[0m\u001b[0;34m\u001b[0m\u001b[0m\n\u001b[0m\u001b[1;32m     49\u001b[0m         \u001b[0m_widget_manager\u001b[0m \u001b[0;34m=\u001b[0m \u001b[0mWidgetManager\u001b[0m\u001b[0;34m(\u001b[0m\u001b[0;34m)\u001b[0m\u001b[0;34m\u001b[0m\u001b[0;34m\u001b[0m\u001b[0m\n\u001b[1;32m     50\u001b[0m \u001b[0;34m\u001b[0m\u001b[0m\n",
      "\u001b[0;32m~/techbookfest-getfem/doc/sphinx/source/test/lib/python3.7/site-packages/mayavi/tools/remote/ipy_remote.py\u001b[0m in \u001b[0;36m<module>\u001b[0;34m\u001b[0m\n\u001b[1;32m      1\u001b[0m \u001b[0;32mimport\u001b[0m \u001b[0mbase64\u001b[0m\u001b[0;34m\u001b[0m\u001b[0;34m\u001b[0m\u001b[0m\n\u001b[1;32m      2\u001b[0m \u001b[0;32mfrom\u001b[0m \u001b[0mIPython\u001b[0m\u001b[0;34m.\u001b[0m\u001b[0mdisplay\u001b[0m \u001b[0;32mimport\u001b[0m \u001b[0mdisplay\u001b[0m\u001b[0;34m\u001b[0m\u001b[0;34m\u001b[0m\u001b[0m\n\u001b[0;32m----> 3\u001b[0;31m \u001b[0;32mfrom\u001b[0m \u001b[0mipywidgets\u001b[0m \u001b[0;32mimport\u001b[0m \u001b[0mImage\u001b[0m\u001b[0;34m\u001b[0m\u001b[0;34m\u001b[0m\u001b[0m\n\u001b[0m\u001b[1;32m      4\u001b[0m \u001b[0;32mfrom\u001b[0m \u001b[0mipyevents\u001b[0m \u001b[0;32mimport\u001b[0m \u001b[0mEvent\u001b[0m\u001b[0;34m\u001b[0m\u001b[0;34m\u001b[0m\u001b[0m\n\u001b[1;32m      5\u001b[0m \u001b[0;34m\u001b[0m\u001b[0m\n",
      "\u001b[0;31mModuleNotFoundError\u001b[0m: No module named 'ipywidgets'"
     ]
    }
   ],
   "source": [
    "filename = 'mesh.vtk'\n",
    "mesh.export_to_vtk(filename, 'ascii')\n",
    "\n",
    "from mayavi import mlab\n",
    "mlab.init_notebook()\n",
    "vtk_file_reader = mlab.pipeline.open(filename)\n",
    "extract_edges = mlab.pipeline.extract_edges(vtk_file_reader)\n",
    "surface = mlab.pipeline.surface(extract_edges)\n",
    "axes = mlab.axes(surface)\n",
    "\n",
    "picturename = 'mesh.png'\n",
    "mlab.show()\n",
    "mlab.savefig(picturename)\n",
    "mlab.clf()\n",
    "from IPython.display import Image, display_png\n",
    "display_png(Image(picturename))"
   ]
  },
  {
   "cell_type": "markdown",
   "metadata": {},
   "source": [
    "メッシュきれいにできていますね！間隔も問題なさそうです。でもあれ？中心が(1.0, 1.0)になっている・・・"
   ]
  },
  {
   "cell_type": "markdown",
   "metadata": {},
   "source": [
    "\n",
    "\n",
    "<img src=\"naburaFACE03.bmp\" width=\"150\" height=\"100\">\n",
    "\n",
    "\n",
    "\n",
    "そうだ！中心を(1.0, 1.0)にして後でシフトするんでしたよね。\n",
    "\n",
    "メッシュをベクトル表示で(-1.0, -1.0)の方向にシフトさせましょう。その際には以下のコマンドを実行します。"
   ]
  },
  {
   "cell_type": "code",
   "execution_count": null,
   "metadata": {},
   "outputs": [],
   "source": [
    "mesh.translate([-1.0, -1.0])"
   ]
  },
  {
   "cell_type": "markdown",
   "metadata": {},
   "source": [
    "再度表示を指せると。。。今度は中心が(0.0, 0.0)になりましたね。よかった。"
   ]
  },
  {
   "cell_type": "code",
   "execution_count": null,
   "metadata": {},
   "outputs": [],
   "source": [
    "filename = 'mesh.vtk'\n",
    "mesh.export_to_vtk(filename, 'ascii')\n",
    "\n",
    "from mayavi import mlab\n",
    "mlab.init_notebook()\n",
    "vtk_file_reader = mlab.pipeline.open(filename)\n",
    "extract_edges = mlab.pipeline.extract_edges(vtk_file_reader)\n",
    "surface = mlab.pipeline.surface(extract_edges)\n",
    "axes = mlab.axes(surface)\n",
    "\n",
    "picturename = 'mesh.png'\n",
    "mlab.show()\n",
    "mlab.savefig(picturename)\n",
    "mlab.clf()\n",
    "from IPython.display import Image, display_png\n",
    "display_png(Image(picturename))"
   ]
  },
  {
   "cell_type": "markdown",
   "metadata": {},
   "source": [
    "さて、このメッシュの外側の境界にはDirichlet条件を設定する必要があります。そのためにouter_facesメソッドでメッシュの外側の面を抽出し、set_regionメソッドで領域を設定しておきます。"
   ]
  },
  {
   "cell_type": "code",
   "execution_count": null,
   "metadata": {},
   "outputs": [],
   "source": [
    "fb = mesh.outer_faces()\n",
    "OUTER_BOUND = 1\n",
    "mesh.set_region(OUTER_BOUND, fb)"
   ]
  },
  {
   "cell_type": "markdown",
   "metadata": {},
   "source": [
    "次にメッシュに有限要素法を割り当てるオブジェクトMeshFEMを作成します。今回は通常のLagrange要素を使用します。節点の自由度は1、要素次数は2とします。"
   ]
  },
  {
   "cell_type": "code",
   "execution_count": null,
   "metadata": {},
   "outputs": [],
   "source": [
    "mfu = gf.MeshFem(mesh, 1)\n",
    "\n",
    "elements_degree = 2\n",
    "mfu.set_classical_fem(elements_degree)"
   ]
  },
  {
   "cell_type": "markdown",
   "metadata": {},
   "source": [
    "\n",
    "\n",
    "<img src=\"naburaFACE05.bmp\" width=\"150\" height=\"100\">\n",
    "\n",
    "\n",
    "MeshFEMオブジェクトの用意ができましたので、問題を解くためのModelオブジェクトを作成します。変数uとしてmfuを設定します。ここいらへんが一番難しいところです、半分まで来ていますのでファイトです。\n",
    "\n",
    "有限要素法で問題を解く際には以下のような連立方程式を解きます。Modelオブジェクトはこの連立方程式を管理してくれるオブジェクトです。\n",
    "\n",
    "<img src=\"http://getfem.org/_images/getfemuserlinearsys.png\" width=\"600\" height=\"400\">\n"
   ]
  },
  {
   "cell_type": "markdown",
   "metadata": {},
   "source": [
    "実際にモデルオブジェクトを定義してみましょう。今回は実数モデルですので、'real'を引数にしてModelオブジェクトmdを作成します。"
   ]
  },
  {
   "cell_type": "code",
   "execution_count": null,
   "metadata": {},
   "outputs": [],
   "source": [
    "md = gf.Model('real')\n",
    "md.add_fem_variable('u', mfu)"
   ]
  },
  {
   "cell_type": "markdown",
   "metadata": {},
   "source": [
    "次に円$\\Omega$上で以下の微分方程式を仮定します。\n",
    "$$\n",
    "-\\Delta u = 1, u \\subset \\Omega\n",
    "$$\n",
    "この形の微分方程式を追加する際には'add_Laplacian_brick'というメソッドを使用します。詳しくは md.add_Laplacian_brick? で確認してみてください。"
   ]
  },
  {
   "cell_type": "code",
   "execution_count": null,
   "metadata": {},
   "outputs": [],
   "source": [
    "mim = gf.MeshIm(mesh, pow(elements_degree,2))\n",
    "md.add_Laplacian_brick(mim, 'u')\n",
    "md.add_Laplacian_brick?"
   ]
  },
  {
   "cell_type": "markdown",
   "metadata": {},
   "source": [
    "これで先程の図の(unknown)部分に該当する'u'に対して(matrix of the system)にLaplacianのbrickが追加されたことになります。カンのいい人は気づいたかもしれませんが、(rhs)と書かれている部分についても設定をする必要があります。(matrix of the system)と(rhs)が決まらなければ連立方程式は解けないのです。微分方程式の右辺に1.0を加える際には以下のように設定を行います。"
   ]
  },
  {
   "cell_type": "code",
   "execution_count": null,
   "metadata": {},
   "outputs": [],
   "source": [
    "import numpy as np\n",
    "md.add_fem_data('F', mfu)\n",
    "md.add_source_term_brick(mim, 'u', 'F')\n",
    "md.set_variable('F', np.repeat(1.0, mfu.nbdof()))"
   ]
  },
  {
   "cell_type": "markdown",
   "metadata": {},
   "source": [
    "次にDirichlet境界条件の設定を行います。その際には先程設定した外側の境界部分OUTER_BOUNDを使用します。"
   ]
  },
  {
   "cell_type": "code",
   "execution_count": null,
   "metadata": {},
   "outputs": [],
   "source": [
    "md.add_Dirichlet_condition_with_multipliers(mim, 'u', elements_degree - 1, OUTER_BOUND)\n",
    "md.add_Dirichlet_condition_with_multipliers?"
   ]
  },
  {
   "cell_type": "markdown",
   "metadata": {},
   "source": [
    "Modelオブジェクトmdが完成しました。ここまでくればあとはsolveメソッドで解を計算することができます。"
   ]
  },
  {
   "cell_type": "code",
   "execution_count": null,
   "metadata": {},
   "outputs": [],
   "source": [
    "md.solve()"
   ]
  },
  {
   "cell_type": "markdown",
   "metadata": {},
   "source": [
    "\n",
    "\n",
    "<img src=\"naburaFACE02.bmp\" width=\"150\" height=\"100\">\n",
    "\n",
    "\n",
    "ついに問題を解くことができました! 先程の'u'が計算されたのです。'u'をプロットして計算結果を表示させてみましょう。\n",
    "\n",
    "モデルオブジェクトmdから'u'を出力するには次のメソッドを使用します。"
   ]
  },
  {
   "cell_type": "code",
   "execution_count": null,
   "metadata": {},
   "outputs": [],
   "source": [
    "U = md.variable('u')"
   ]
  },
  {
   "cell_type": "markdown",
   "metadata": {},
   "source": [
    "結果を出力するときには、MeshFEMオブジェクトを使用してMeshオブジェクトと同じように結果を画像出力できます。ここについてもこのようにすれば画像が出力できるのだと思っておいてください。"
   ]
  },
  {
   "cell_type": "code",
   "execution_count": null,
   "metadata": {},
   "outputs": [],
   "source": [
    "vtkfilename = 'displacement.vtk'\n",
    "mfu.export_to_vtk(vtkfilename, mfu, U, 'Displacement')"
   ]
  },
  {
   "cell_type": "code",
   "execution_count": null,
   "metadata": {},
   "outputs": [],
   "source": [
    "# mayavi2 -d displacement_with_von_mises1.vtk -f WarpVector -m Surface -d displacement_with_von_mises2.vtk -f WarpVector -m Surface\n",
    "from mayavi import mlab\n",
    "\n",
    "filename = 'solutions.png'\n",
    "\n",
    "#%gui qt\n",
    "mlab.init_notebook()\n",
    "vtk_file_reader = mlab.pipeline.open(vtkfilename)\n",
    "surface = mlab.pipeline.surface(vtk_file_reader)\n",
    "\n",
    "mlab.scalarbar(orientation='vertical')\n",
    "mlab.show()\n",
    "mlab.savefig(filename, magnification=2)\n",
    "mlab.clf()\n",
    "\n",
    "from IPython.display import Image, display_png\n",
    "display_png(Image(filename))"
   ]
  },
  {
   "cell_type": "markdown",
   "metadata": {},
   "source": [
    "やりました!きれいな計算結果が出ていますね。でも結果を出力するだけで満足してはいけません。理論解との誤差を計算してみましょう。\n",
    "\n",
    "今回の場合、理論解は次式で表されます。\n",
    "$$\n",
    "u(x, y) = \\dfrac{1-x^2-y^2}{4}\n",
    "$$"
   ]
  },
  {
   "cell_type": "markdown",
   "metadata": {},
   "source": [
    "さて、mfu_uオブジェクトはbasic_dof_nodesメソッドを使うことで各自由度の座標値(x, y)を計算することができます。"
   ]
  },
  {
   "cell_type": "code",
   "execution_count": null,
   "metadata": {},
   "outputs": [],
   "source": [
    "xy = mfu.basic_dof_nodes()\n",
    "x = xy[0, :]\n",
    "y = xy[1, :]"
   ]
  },
  {
   "cell_type": "markdown",
   "metadata": {},
   "source": [
    "\n",
    "\n",
    "<img src=\"naburaFACE06.bmp\" width=\"150\" height=\"100\">\n",
    "\n",
    "\n",
    "式の通りに計算したものを変数solに代入し'u'のときにと同様に画像出力してみます。"
   ]
  },
  {
   "cell_type": "code",
   "execution_count": null,
   "metadata": {},
   "outputs": [],
   "source": [
    "sol = (1-x*x-y*y)/4.0\n",
    "\n",
    "vtkfilename = 'sol.vtk'\n",
    "mfu.export_to_vtk(vtkfilename, mfu, sol, 'solution')\n",
    "\n",
    "# mayavi2 -d displacement_with_von_mises1.vtk -f WarpVector -m Surface -d displacement_with_von_mises2.vtk -f WarpVector -m Surface\n",
    "from mayavi import mlab\n",
    "\n",
    "filename = 'solutions.png'\n",
    "\n",
    "#%gui qt\n",
    "mlab.init_notebook()\n",
    "vtk_file_reader = mlab.pipeline.open(vtkfilename)\n",
    "surface = mlab.pipeline.surface(vtk_file_reader)\n",
    "\n",
    "mlab.scalarbar(orientation='vertical')\n",
    "mlab.show()\n",
    "mlab.savefig(filename, magnification=2)\n",
    "mlab.clf()\n",
    "\n",
    "from IPython.display import Image, display_png\n",
    "display_png(Image(filename))"
   ]
  },
  {
   "cell_type": "markdown",
   "metadata": {},
   "source": [
    "おおー。最大値も一致していますし、コンターも同じですから問題なさそうですね。でも念の為、計算結果Uと理論解solの誤差を計算しそれについても確認しておきましょう。"
   ]
  },
  {
   "cell_type": "code",
   "execution_count": null,
   "metadata": {},
   "outputs": [],
   "source": [
    "vtkfilename = 'error.vtk'\n",
    "mfu.export_to_vtk(vtkfilename, mfu, np.abs(U-sol), 'error')\n",
    "\n",
    "# mayavi2 -d displacement_with_von_mises1.vtk -f WarpVector -m Surface -d displacement_with_von_mises2.vtk -f WarpVector -m Surface\n",
    "from mayavi import mlab\n",
    "\n",
    "filename = 'solutions.png'\n",
    "\n",
    "#%gui qt\n",
    "mlab.init_notebook()\n",
    "vtk_file_reader = mlab.pipeline.open(vtkfilename)\n",
    "surface = mlab.pipeline.surface(vtk_file_reader)\n",
    "\n",
    "mlab.scalarbar(orientation='vertical')\n",
    "mlab.show()\n",
    "mlab.savefig(filename, magnification=2)\n",
    "mlab.clf()\n",
    "\n",
    "from IPython.display import Image, display_png\n",
    "display_png(Image(filename))"
   ]
  },
  {
   "cell_type": "markdown",
   "metadata": {},
   "source": [
    "\n",
    "\n",
    "<img src=\"naburaFACE04.bmp\" width=\"150\" height=\"100\">\n",
    "\n",
    "誤差のオーダーはMathWorks様と同じですね。問題なさそうです！この計算が参考になればうれしいです。気に入っていただけたならStarをつけていただくと励みになります。ではまた。"
   ]
  },
  {
   "cell_type": "markdown",
   "metadata": {},
   "source": [
    "【なぶらちゃんキャラクターライセンスについて】\n",
    "\n",
    "・キャラクターについて\n",
    "「なぶらちゃん」キャラクターに関する著作権およびその他の一切の権利はオープンCAE勉強会＠関西に帰属します。\n",
    "二次創作にあたり、著作権およびその他一切の権利を放棄・譲渡するものではありません。\n",
    "\n",
    "【なぶらちゃん着せ替えセットについて】\n",
    "・個人・サークルによる利用\n",
    "非商用及びイベント等でのグッズ・同人誌の頒布等は、特にご連絡なくご利用いただけます。\n",
    "利用の際は「オープンCAE勉強会＠関西」およびキャラ製作者の「キノ子(@donkinoko)」を表示ください。\n",
    "\n",
    "・法人利用・商用利用\n",
    "法人利用・商用利用の際は個別にお問い合わせください。\n",
    "\n",
    "・禁止事項\n",
    "「なぶらちゃん」以外のキャラクターとしての使用\n",
    "キャラクターのイメージを著しく損なうような使用\n",
    "法令および公序良俗に反するような使用\n",
    "宗教、政治活動などへの使用\n",
    "\n",
    "・その他\n",
    "お気軽にお問い合わせください\n",
    "ocb.kansai@gmail.com"
   ]
  },
  {
   "cell_type": "code",
   "execution_count": null,
   "metadata": {},
   "outputs": [],
   "source": []
  }
 ],
 "metadata": {
  "kernelspec": {
   "display_name": "Python 3",
   "language": "python",
   "name": "python3"
  },
  "language_info": {
   "codemirror_mode": {
    "name": "ipython",
    "version": 3
   },
   "file_extension": ".py",
   "mimetype": "text/x-python",
   "name": "python",
   "nbconvert_exporter": "python",
   "pygments_lexer": "ipython3",
   "version": "3.7.3"
  }
 },
 "nbformat": 4,
 "nbformat_minor": 2
}
